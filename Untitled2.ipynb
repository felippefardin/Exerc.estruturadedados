{
  "nbformat": 4,
  "nbformat_minor": 0,
  "metadata": {
    "colab": {
      "provenance": [],
      "authorship_tag": "ABX9TyMaX8m0KTIZ+Yq+y2IxbLs9",
      "include_colab_link": true
    },
    "kernelspec": {
      "name": "python3",
      "display_name": "Python 3"
    },
    "language_info": {
      "name": "python"
    }
  },
  "cells": [
    {
      "cell_type": "markdown",
      "metadata": {
        "id": "view-in-github",
        "colab_type": "text"
      },
      "source": [
        "<a href=\"https://colab.research.google.com/github/felippefardin/Exerc.estruturadedados/blob/felippefardin/Untitled2.ipynb\" target=\"_parent\"><img src=\"https://colab.research.google.com/assets/colab-badge.svg\" alt=\"Open In Colab\"/></a>"
      ]
    },
    {
      "cell_type": "code",
      "execution_count": 8,
      "metadata": {
        "colab": {
          "base_uri": "https://localhost:8080/"
        },
        "id": "sU8yyLV0ArKo",
        "outputId": "a48939d0-ed73-494e-b081-28a9c544817a"
      },
      "outputs": [
        {
          "output_type": "stream",
          "name": "stdout",
          "text": [
            "Média do valor gasto por cliente: 75.0\n"
          ]
        }
      ],
      "source": [
        "\n",
        "class Nodo:\n",
        "    def __init__(self, dado=None):\n",
        "        self.dado = dado\n",
        "        self.proximo = None\n",
        "\n",
        "class Lista:\n",
        "    def __init__(self):\n",
        "        self.primeiro = None\n",
        "        self.ultimo = None\n",
        "\n",
        "    def inserir_final(self, dado):\n",
        "        novo_nodo = Nodo(dado)\n",
        "        if self.primeiro is None:\n",
        "            self.primeiro = novo_nodo\n",
        "            self.ultimo = novo_nodo\n",
        "        else:\n",
        "            self.ultimo.proximo = novo_nodo\n",
        "            self.ultimo = novo_nodo\n",
        "\n",
        "    def calcular_media(self):\n",
        "        total = 0\n",
        "        contador = 0\n",
        "        atual = self.primeiro\n",
        "        while atual:\n",
        "            total += atual.dado.valor_gasto\n",
        "            contador += 1\n",
        "            atual = atual.proximo\n",
        "        if contador == 0:\n",
        "            return 0\n",
        "        return total / contador\n",
        "\n",
        "class Cliente:\n",
        "    def __init__(self, nome, valor_gasto):\n",
        "        self.nome = nome\n",
        "        self.valor_gasto = valor_gasto\n",
        "\n",
        "# Testando a funcionalidade\n",
        "\n",
        "clientes = Lista()\n",
        "clientes.inserir_final(Cliente('Cliente 1', 50))\n",
        "clientes.inserir_final(Cliente('Cliente 2', 100))\n",
        "clientes.inserir_final(Cliente('Cliente 3', 75))\n",
        "\n",
        "media = clientes.calcular_media()\n",
        "print(f'Média do valor gasto por cliente: {media}')\n"
      ]
    }
  ]
}